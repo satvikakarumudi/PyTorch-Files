{
  "nbformat": 4,
  "nbformat_minor": 0,
  "metadata": {
    "colab": {
      "provenance": [],
      "gpuType": "T4",
      "authorship_tag": "ABX9TyMopA+ctzqkykD5O/D3zNAp",
      "include_colab_link": true
    },
    "kernelspec": {
      "name": "python3",
      "display_name": "Python 3"
    },
    "language_info": {
      "name": "python"
    },
    "accelerator": "GPU"
  },
  "cells": [
    {
      "cell_type": "markdown",
      "metadata": {
        "id": "view-in-github",
        "colab_type": "text"
      },
      "source": [
        "<a href=\"https://colab.research.google.com/github/satvikakarumudi/PyTorch-Files/blob/main/03Sat_fundamentals.ipynb\" target=\"_parent\"><img src=\"https://colab.research.google.com/assets/colab-badge.svg\" alt=\"Open In Colab\"/></a>"
      ]
    },
    {
      "cell_type": "code",
      "execution_count": 107,
      "metadata": {
        "id": "suIErDdwXpX-"
      },
      "outputs": [],
      "source": [
        "import torch\n",
        "import pandas as pd\n",
        "import numpy as np\n",
        "import matplotlib.pyplot as plt"
      ]
    },
    {
      "cell_type": "markdown",
      "source": [
        "**Reshaping,stacking,squeezing and unsqueezing tensors**\n",
        "\n",
        "1.Reshaping-reshapes an input tensor to a defined shape\n",
        "\n",
        "2.View-Return a view of an input tensor of certain shape but keep the same memory as the original tensor\n",
        "\n",
        "3.Stacking-Combine multiple tensors on top each other (vstack) or side by side(hstack)\n",
        "\n",
        "4.Squeeze-removes all 1 dimension from a tensor\n",
        "\n",
        "5.Unsqueeze-add 1 dimension to target tensor\n",
        "\n",
        "6.Permute-Return a view of the input with dimensions permuted(swapped)ina certain way"
      ],
      "metadata": {
        "id": "5z5zDjm_ZjfJ"
      }
    },
    {
      "cell_type": "code",
      "source": [
        "#Let's create a tesnor\n",
        "import torch\n",
        "x=torch.arange(1.,10.)\n",
        "x,x.shape"
      ],
      "metadata": {
        "colab": {
          "base_uri": "https://localhost:8080/"
        },
        "id": "CBQLFVIIfNVW",
        "outputId": "d6da96f3-60f9-496d-ef48-5f4ac7b331c1"
      },
      "execution_count": 16,
      "outputs": [
        {
          "output_type": "execute_result",
          "data": {
            "text/plain": [
              "(tensor([1., 2., 3., 4., 5., 6., 7., 8., 9.]), torch.Size([9]))"
            ]
          },
          "metadata": {},
          "execution_count": 16
        }
      ]
    },
    {
      "cell_type": "code",
      "source": [
        "#Add an extra dimension\n",
        "x_reshaped = x.reshape(1,9)\n",
        "x_reshaped, x_reshaped.shape"
      ],
      "metadata": {
        "colab": {
          "base_uri": "https://localhost:8080/"
        },
        "id": "JKXn3j9IToo_",
        "outputId": "027365eb-c44e-43b1-a6fd-16b9a0e9f060"
      },
      "execution_count": 18,
      "outputs": [
        {
          "output_type": "execute_result",
          "data": {
            "text/plain": [
              "(tensor([[1., 2., 3., 4., 5., 6., 7., 8., 9.]]), torch.Size([1, 9]))"
            ]
          },
          "metadata": {},
          "execution_count": 18
        }
      ]
    },
    {
      "cell_type": "code",
      "source": [
        "x_reshaped = x.reshape(9,1)\n",
        "x_reshaped, x_reshaped.shape"
      ],
      "metadata": {
        "colab": {
          "base_uri": "https://localhost:8080/"
        },
        "id": "Nip14RHwhY2f",
        "outputId": "960aaebf-b5ff-4a5a-872d-e30038cc185d"
      },
      "execution_count": 13,
      "outputs": [
        {
          "output_type": "execute_result",
          "data": {
            "text/plain": [
              "(tensor([[1.],\n",
              "         [2.],\n",
              "         [3.],\n",
              "         [4.],\n",
              "         [5.],\n",
              "         [6.],\n",
              "         [7.],\n",
              "         [8.],\n",
              "         [9.]]),\n",
              " torch.Size([9, 1]))"
            ]
          },
          "metadata": {},
          "execution_count": 13
        }
      ]
    },
    {
      "cell_type": "code",
      "source": [
        "#change the view\n",
        "z=x.view(1,9)\n",
        "z,z.shape"
      ],
      "metadata": {
        "colab": {
          "base_uri": "https://localhost:8080/"
        },
        "id": "Zt9Nno7UhdIo",
        "outputId": "13912d0b-af72-4daf-a065-40b14f19dd19"
      },
      "execution_count": 19,
      "outputs": [
        {
          "output_type": "execute_result",
          "data": {
            "text/plain": [
              "(tensor([[1., 2., 3., 4., 5., 6., 7., 8., 9.]]), torch.Size([1, 9]))"
            ]
          },
          "metadata": {},
          "execution_count": 19
        }
      ]
    },
    {
      "cell_type": "code",
      "source": [
        "#changing z changes x(because the view of a tensor shares the same memory as the original input)\n",
        "z[:,0]=5\n",
        "z,x"
      ],
      "metadata": {
        "colab": {
          "base_uri": "https://localhost:8080/"
        },
        "id": "xUw0tlbwiYqk",
        "outputId": "06818f1d-4596-44d0-b43f-00091fb895f4"
      },
      "execution_count": 20,
      "outputs": [
        {
          "output_type": "execute_result",
          "data": {
            "text/plain": [
              "(tensor([[5., 2., 3., 4., 5., 6., 7., 8., 9.]]),\n",
              " tensor([5., 2., 3., 4., 5., 6., 7., 8., 9.]))"
            ]
          },
          "metadata": {},
          "execution_count": 20
        }
      ]
    },
    {
      "cell_type": "code",
      "source": [
        "#stack tensors on top of each other\n",
        "x_stacked=torch.stack([x,x,x,x],dim=0)\n",
        "x_stacked"
      ],
      "metadata": {
        "colab": {
          "base_uri": "https://localhost:8080/"
        },
        "id": "MnPJePPniqWY",
        "outputId": "c0f28550-83b0-4346-ecd0-42188c1025b8"
      },
      "execution_count": 21,
      "outputs": [
        {
          "output_type": "execute_result",
          "data": {
            "text/plain": [
              "tensor([[5., 2., 3., 4., 5., 6., 7., 8., 9.],\n",
              "        [5., 2., 3., 4., 5., 6., 7., 8., 9.],\n",
              "        [5., 2., 3., 4., 5., 6., 7., 8., 9.],\n",
              "        [5., 2., 3., 4., 5., 6., 7., 8., 9.]])"
            ]
          },
          "metadata": {},
          "execution_count": 21
        }
      ]
    },
    {
      "cell_type": "code",
      "source": [
        "x_stacked=torch.stack([x,x,x,x],dim=1)\n",
        "x_stacked"
      ],
      "metadata": {
        "colab": {
          "base_uri": "https://localhost:8080/"
        },
        "id": "eEZqfSp3jBqx",
        "outputId": "47d382fb-4129-4189-fc8d-2144a0ff50a7"
      },
      "execution_count": 22,
      "outputs": [
        {
          "output_type": "execute_result",
          "data": {
            "text/plain": [
              "tensor([[5., 5., 5., 5.],\n",
              "        [2., 2., 2., 2.],\n",
              "        [3., 3., 3., 3.],\n",
              "        [4., 4., 4., 4.],\n",
              "        [5., 5., 5., 5.],\n",
              "        [6., 6., 6., 6.],\n",
              "        [7., 7., 7., 7.],\n",
              "        [8., 8., 8., 8.],\n",
              "        [9., 9., 9., 9.]])"
            ]
          },
          "metadata": {},
          "execution_count": 22
        }
      ]
    },
    {
      "cell_type": "code",
      "source": [
        "#torch.sqeeze()-removes all single dimensions from a target tensor\n",
        "print(f\"Previous tensor:{x_reshaped}\")\n",
        "print(f\"Previous shape:{x_reshaped.shape}\")\n",
        "\n",
        "#Remove extra dimensions from x_reshaped\n",
        "x_squeezed=x_reshaped.squeeze()\n",
        "print(f\"\\nNew tensor:{x_squeezed}\")\n",
        "print(f\"New shape:{x_squeezed.shape}\")\n"
      ],
      "metadata": {
        "colab": {
          "base_uri": "https://localhost:8080/"
        },
        "id": "_41HiAuajF_N",
        "outputId": "cec7f10f-7716-43bf-ce58-6259d8c51c3d"
      },
      "execution_count": 27,
      "outputs": [
        {
          "output_type": "stream",
          "name": "stdout",
          "text": [
            "Previous tensor:tensor([[5., 2., 3., 4., 5., 6., 7., 8., 9.]])\n",
            "Previous shape:torch.Size([1, 9])\n",
            "\n",
            "New tensor:tensor([5., 2., 3., 4., 5., 6., 7., 8., 9.])\n",
            "New shape:torch.Size([9])\n"
          ]
        }
      ]
    },
    {
      "cell_type": "code",
      "source": [
        "#torch.unsqueezes()-adds a single dimension to a target tensor at a specific dim(dimension)\n",
        "print(f\"Previous target:{x_squeezed}\")\n",
        "print(f\"Previous shape:{x_squeezed.shape}\")\n",
        "\n",
        "#Add an extra dimension with unsqueeze\n",
        "x_unsqueezed=x_squeezed.unsqueeze(dim=1)\n",
        "print(f\"\\nNew tensor:{x_unsqueezed}\")\n",
        "print(f\"New shape:{x_unsqueezed.shape}\")\n",
        "\n",
        "x_reshaped.shape"
      ],
      "metadata": {
        "colab": {
          "base_uri": "https://localhost:8080/"
        },
        "id": "_XkC26XrkDoq",
        "outputId": "ef0bbfd8-8392-47ab-fa9f-375a7a20537e"
      },
      "execution_count": 31,
      "outputs": [
        {
          "output_type": "stream",
          "name": "stdout",
          "text": [
            "Previous target:tensor([5., 2., 3., 4., 5., 6., 7., 8., 9.])\n",
            "Previous shape:torch.Size([9])\n",
            "\n",
            "New tensor:tensor([[5.],\n",
            "        [2.],\n",
            "        [3.],\n",
            "        [4.],\n",
            "        [5.],\n",
            "        [6.],\n",
            "        [7.],\n",
            "        [8.],\n",
            "        [9.]])\n",
            "New shape:torch.Size([9, 1])\n"
          ]
        },
        {
          "output_type": "execute_result",
          "data": {
            "text/plain": [
              "torch.Size([1, 9])"
            ]
          },
          "metadata": {},
          "execution_count": 31
        }
      ]
    },
    {
      "cell_type": "code",
      "source": [
        "#torch.unsqueezes()-adds a single dimension to a target tensor at a specific dim(dimension)\n",
        "print(f\"Previous target:{x_squeezed}\")\n",
        "print(f\"Previous shape:{x_squeezed.shape}\")\n",
        "\n",
        "#Add an extra dimension with unsqueeze\n",
        "x_unsqueezed=x_squeezed.unsqueeze(dim=0)\n",
        "print(f\"\\nNew tensor:{x_unsqueezed}\")\n",
        "print(f\"New shape:{x_unsqueezed.shape}\")\n",
        "\n",
        "x_reshaped.shape"
      ],
      "metadata": {
        "colab": {
          "base_uri": "https://localhost:8080/"
        },
        "id": "2fpK91YMmxTb",
        "outputId": "2e8698f5-7baa-4c09-8f24-2f1e5ac3a7cc"
      },
      "execution_count": 32,
      "outputs": [
        {
          "output_type": "stream",
          "name": "stdout",
          "text": [
            "Previous target:tensor([5., 2., 3., 4., 5., 6., 7., 8., 9.])\n",
            "Previous shape:torch.Size([9])\n",
            "\n",
            "New tensor:tensor([[5., 2., 3., 4., 5., 6., 7., 8., 9.]])\n",
            "New shape:torch.Size([1, 9])\n"
          ]
        },
        {
          "output_type": "execute_result",
          "data": {
            "text/plain": [
              "torch.Size([1, 9])"
            ]
          },
          "metadata": {},
          "execution_count": 32
        }
      ]
    },
    {
      "cell_type": "code",
      "source": [
        "#torch.permute-rearrange the dimensions of a target tensor in a specified order\n",
        "x_original=torch.rand(size=(224,224,3))\n",
        "\n",
        "#permute the original tensor to rearrange the axis order\n",
        "x_permuted=x_original.permute(2,0,1)#shifts axis 0->1, 1->2, 2->0\n",
        "print(f\"previous shape:{x_original.shape}\")\n",
        "print(f\"New shape: {x_permuted.shape}\")\n"
      ],
      "metadata": {
        "colab": {
          "base_uri": "https://localhost:8080/"
        },
        "id": "XRNiFfGikHUp",
        "outputId": "58e31a93-5a92-4a1b-dff9-5438fdc15bb0"
      },
      "execution_count": 36,
      "outputs": [
        {
          "output_type": "stream",
          "name": "stdout",
          "text": [
            "previous shape:torch.Size([224, 224, 3])\n",
            "New shape: torch.Size([3, 224, 224])\n"
          ]
        }
      ]
    },
    {
      "cell_type": "code",
      "source": [
        "x_reshaped.squeeze().shape"
      ],
      "metadata": {
        "colab": {
          "base_uri": "https://localhost:8080/"
        },
        "id": "EFfDb9c2kLRg",
        "outputId": "f53fba5b-f565-45da-90d3-0b81c1631df4"
      },
      "execution_count": 26,
      "outputs": [
        {
          "output_type": "execute_result",
          "data": {
            "text/plain": [
              "torch.Size([9])"
            ]
          },
          "metadata": {},
          "execution_count": 26
        }
      ]
    },
    {
      "cell_type": "code",
      "source": [
        "x_original[0,0,0]"
      ],
      "metadata": {
        "colab": {
          "base_uri": "https://localhost:8080/"
        },
        "id": "qRFrw2FWkVO9",
        "outputId": "e8411957-3036-45e7-97c2-f3a75a36ecc5"
      },
      "execution_count": 38,
      "outputs": [
        {
          "output_type": "execute_result",
          "data": {
            "text/plain": [
              "tensor(0.6032)"
            ]
          },
          "metadata": {},
          "execution_count": 38
        }
      ]
    },
    {
      "cell_type": "code",
      "source": [
        "x_original[:,:,0]"
      ],
      "metadata": {
        "colab": {
          "base_uri": "https://localhost:8080/"
        },
        "id": "kQtY1L9Frwgg",
        "outputId": "8ccfedfc-11c8-4bbe-da7d-fe10b00cb785"
      },
      "execution_count": 39,
      "outputs": [
        {
          "output_type": "execute_result",
          "data": {
            "text/plain": [
              "tensor([[0.6032, 0.2666, 0.1875,  ..., 0.6296, 0.2720, 0.7633],\n",
              "        [0.4663, 0.8104, 0.6644,  ..., 0.0134, 0.3448, 0.6281],\n",
              "        [0.0842, 0.1128, 0.5860,  ..., 0.6172, 0.5466, 0.0831],\n",
              "        ...,\n",
              "        [0.6040, 0.3089, 0.7983,  ..., 0.8735, 0.2377, 0.1757],\n",
              "        [0.1872, 0.0243, 0.3430,  ..., 0.0850, 0.8620, 0.4413],\n",
              "        [0.8950, 0.0625, 0.0642,  ..., 0.6388, 0.1947, 0.8380]])"
            ]
          },
          "metadata": {},
          "execution_count": 39
        }
      ]
    },
    {
      "cell_type": "code",
      "source": [
        "x_original[0,:,:]"
      ],
      "metadata": {
        "colab": {
          "base_uri": "https://localhost:8080/"
        },
        "id": "Ys4UgUNZr5-1",
        "outputId": "47d84f8a-d592-4a0c-aeb4-7a06c6e17920"
      },
      "execution_count": 40,
      "outputs": [
        {
          "output_type": "execute_result",
          "data": {
            "text/plain": [
              "tensor([[0.6032, 0.5697, 0.6439],\n",
              "        [0.2666, 0.5861, 0.1254],\n",
              "        [0.1875, 0.7796, 0.3333],\n",
              "        [0.6848, 0.4121, 0.6201],\n",
              "        [0.6417, 0.1197, 0.9526],\n",
              "        [0.7925, 0.7569, 0.7542],\n",
              "        [0.4119, 0.1852, 0.5481],\n",
              "        [0.4326, 0.9440, 0.0139],\n",
              "        [0.5594, 0.7195, 0.6246],\n",
              "        [0.3981, 0.2878, 0.8596],\n",
              "        [0.6242, 0.6216, 0.2645],\n",
              "        [0.7274, 0.4979, 0.0564],\n",
              "        [0.0715, 0.1827, 0.7558],\n",
              "        [0.0121, 0.4707, 0.2057],\n",
              "        [0.3904, 0.7739, 0.7751],\n",
              "        [0.5826, 0.8842, 0.2822],\n",
              "        [0.8995, 0.0180, 0.6064],\n",
              "        [0.9326, 0.9377, 0.6233],\n",
              "        [0.0061, 0.5166, 0.3323],\n",
              "        [0.7209, 0.9881, 0.9869],\n",
              "        [0.3655, 0.0584, 0.5452],\n",
              "        [0.8928, 0.0296, 0.4913],\n",
              "        [0.7159, 0.8030, 0.7343],\n",
              "        [0.8226, 0.1755, 0.9996],\n",
              "        [0.1451, 0.2894, 0.7991],\n",
              "        [0.1965, 0.8642, 0.5843],\n",
              "        [0.5243, 0.8930, 0.8216],\n",
              "        [0.3227, 0.6400, 0.5506],\n",
              "        [0.2241, 0.3124, 0.3440],\n",
              "        [0.6295, 0.2067, 0.7794],\n",
              "        [0.3680, 0.1811, 0.1089],\n",
              "        [0.1265, 0.7133, 0.3518],\n",
              "        [0.5457, 0.2060, 0.5124],\n",
              "        [0.6110, 0.7218, 0.4952],\n",
              "        [0.7714, 0.4456, 0.1692],\n",
              "        [0.7300, 0.0203, 0.0609],\n",
              "        [0.4136, 0.3212, 0.4911],\n",
              "        [0.5183, 0.6561, 0.8923],\n",
              "        [0.9742, 0.2790, 0.9173],\n",
              "        [0.7970, 0.0760, 0.5310],\n",
              "        [0.7323, 0.4904, 0.1589],\n",
              "        [0.7872, 0.5608, 0.1006],\n",
              "        [0.9320, 0.9656, 0.5203],\n",
              "        [0.7836, 0.7339, 0.3709],\n",
              "        [0.0014, 0.8585, 0.8464],\n",
              "        [0.2196, 0.8344, 0.7737],\n",
              "        [0.6246, 0.2513, 0.1265],\n",
              "        [0.8454, 0.0683, 0.6710],\n",
              "        [0.8256, 0.5335, 0.7183],\n",
              "        [0.6171, 0.9642, 0.9258],\n",
              "        [0.8476, 0.7770, 0.3203],\n",
              "        [0.3825, 0.3131, 0.5946],\n",
              "        [0.3160, 0.3057, 0.1597],\n",
              "        [0.7482, 0.5336, 0.6982],\n",
              "        [0.6522, 0.1094, 0.7909],\n",
              "        [0.1016, 0.3664, 0.3734],\n",
              "        [0.2841, 0.1485, 0.8767],\n",
              "        [0.0854, 0.9018, 0.8713],\n",
              "        [0.8909, 0.4917, 0.1915],\n",
              "        [0.0138, 0.5768, 0.0020],\n",
              "        [0.8159, 0.3881, 0.9338],\n",
              "        [0.8064, 0.4410, 0.9174],\n",
              "        [0.4569, 0.5933, 0.4011],\n",
              "        [0.1137, 0.3357, 0.0776],\n",
              "        [0.8467, 0.5112, 0.5636],\n",
              "        [0.9176, 0.6121, 0.2228],\n",
              "        [0.7320, 0.8615, 0.2362],\n",
              "        [0.4480, 0.2267, 0.7634],\n",
              "        [0.2043, 0.5694, 0.1305],\n",
              "        [0.5509, 0.7996, 0.0099],\n",
              "        [0.0744, 0.1765, 0.8767],\n",
              "        [0.5035, 0.9885, 0.3369],\n",
              "        [0.1318, 0.5173, 0.6069],\n",
              "        [0.9706, 0.0549, 0.2587],\n",
              "        [0.8554, 0.1446, 0.4193],\n",
              "        [0.0418, 0.9383, 0.0755],\n",
              "        [0.9500, 0.2240, 0.3889],\n",
              "        [0.2567, 0.5265, 0.1113],\n",
              "        [0.6060, 0.8925, 0.9329],\n",
              "        [0.7137, 0.7807, 0.6393],\n",
              "        [0.1749, 0.2189, 0.9227],\n",
              "        [0.9719, 0.8178, 0.5000],\n",
              "        [0.7120, 0.2433, 0.3061],\n",
              "        [0.5061, 0.8893, 0.9026],\n",
              "        [0.4317, 0.7548, 0.8758],\n",
              "        [0.0377, 0.7896, 0.9209],\n",
              "        [0.6594, 0.1474, 0.2937],\n",
              "        [0.8655, 0.6725, 0.2948],\n",
              "        [0.4190, 0.5139, 0.7071],\n",
              "        [0.3088, 0.5509, 0.3564],\n",
              "        [0.5348, 0.7511, 0.6730],\n",
              "        [0.0311, 0.4392, 0.9016],\n",
              "        [0.9752, 0.2108, 0.3801],\n",
              "        [0.3639, 0.9914, 0.1897],\n",
              "        [0.3852, 0.4876, 0.4213],\n",
              "        [0.4845, 0.2616, 0.8046],\n",
              "        [0.6370, 0.7946, 0.1877],\n",
              "        [0.3882, 0.4344, 0.9859],\n",
              "        [0.1111, 0.7304, 0.7872],\n",
              "        [0.9590, 0.2721, 0.5731],\n",
              "        [0.2081, 0.2290, 0.4952],\n",
              "        [0.3432, 0.6348, 0.4390],\n",
              "        [0.0083, 0.7794, 0.4409],\n",
              "        [0.7532, 0.3697, 0.5337],\n",
              "        [0.1221, 0.2615, 0.9187],\n",
              "        [0.8706, 0.1641, 0.9109],\n",
              "        [0.5421, 0.8065, 0.6425],\n",
              "        [0.3366, 0.6733, 0.3584],\n",
              "        [0.8019, 0.4359, 0.7884],\n",
              "        [0.9273, 0.5671, 0.5740],\n",
              "        [0.0245, 0.4848, 0.0681],\n",
              "        [0.6335, 0.4797, 0.0855],\n",
              "        [0.5118, 0.8470, 0.4683],\n",
              "        [0.8211, 0.3679, 0.3676],\n",
              "        [0.2621, 0.1635, 0.0487],\n",
              "        [0.3249, 0.9149, 0.5565],\n",
              "        [0.9075, 0.8236, 0.8409],\n",
              "        [0.3235, 0.4477, 0.3902],\n",
              "        [0.3186, 0.1817, 0.1388],\n",
              "        [0.5375, 0.0636, 0.5515],\n",
              "        [0.1941, 0.2106, 0.2923],\n",
              "        [0.9153, 0.7108, 0.6043],\n",
              "        [0.0599, 0.8440, 0.0369],\n",
              "        [0.9610, 0.0454, 0.6885],\n",
              "        [0.3484, 0.7553, 0.9100],\n",
              "        [0.1060, 0.7055, 0.6716],\n",
              "        [0.5350, 0.9254, 0.1597],\n",
              "        [0.1715, 0.4442, 0.9013],\n",
              "        [0.7925, 0.3568, 0.3637],\n",
              "        [0.8808, 0.3626, 0.6622],\n",
              "        [0.9961, 0.3446, 0.8757],\n",
              "        [0.7675, 0.4520, 0.0473],\n",
              "        [0.7470, 0.6715, 0.1519],\n",
              "        [0.1080, 0.9361, 0.6651],\n",
              "        [0.8416, 0.6498, 0.3534],\n",
              "        [0.9211, 0.3415, 0.6813],\n",
              "        [0.4241, 0.4918, 0.1204],\n",
              "        [0.1666, 0.9146, 0.2342],\n",
              "        [0.1359, 0.4931, 0.8694],\n",
              "        [0.0256, 0.1842, 0.2143],\n",
              "        [0.9086, 0.3121, 0.7438],\n",
              "        [0.7618, 0.3893, 0.4149],\n",
              "        [0.2479, 0.6364, 0.6487],\n",
              "        [0.4261, 0.3916, 0.2249],\n",
              "        [0.6153, 0.2703, 0.0424],\n",
              "        [0.6436, 0.9796, 0.3097],\n",
              "        [0.9405, 0.7584, 0.1170],\n",
              "        [0.4986, 0.4497, 0.3269],\n",
              "        [0.5620, 0.7342, 0.3919],\n",
              "        [0.4538, 0.1471, 0.8442],\n",
              "        [0.9707, 0.3816, 0.2968],\n",
              "        [0.8847, 0.7650, 0.8718],\n",
              "        [0.6820, 0.9778, 0.2295],\n",
              "        [0.3235, 0.8922, 0.4562],\n",
              "        [0.6301, 0.4626, 0.3530],\n",
              "        [0.1960, 0.1717, 0.5192],\n",
              "        [0.1956, 0.1720, 0.4014],\n",
              "        [0.2311, 0.2209, 0.6522],\n",
              "        [0.2650, 0.6915, 0.6599],\n",
              "        [0.1453, 0.7972, 0.1446],\n",
              "        [0.0288, 0.7320, 0.8500],\n",
              "        [0.5298, 0.6187, 0.7610],\n",
              "        [0.9433, 0.4813, 0.4858],\n",
              "        [0.4482, 0.1540, 0.9110],\n",
              "        [0.6284, 0.5994, 0.1196],\n",
              "        [0.3856, 0.5245, 0.4386],\n",
              "        [0.6570, 0.0843, 0.1154],\n",
              "        [0.8390, 0.4861, 0.2469],\n",
              "        [0.8735, 0.1837, 0.4764],\n",
              "        [0.8384, 0.1756, 0.5616],\n",
              "        [0.4297, 0.8701, 0.8197],\n",
              "        [0.8513, 0.2919, 0.8934],\n",
              "        [0.8252, 0.7803, 0.9580],\n",
              "        [0.7244, 0.5418, 0.6394],\n",
              "        [0.1368, 0.6360, 0.3918],\n",
              "        [0.6079, 0.2539, 0.5634],\n",
              "        [0.4168, 0.5202, 0.6308],\n",
              "        [0.2669, 0.7676, 0.7567],\n",
              "        [0.7417, 0.6524, 0.9503],\n",
              "        [0.3996, 0.5364, 0.7903],\n",
              "        [0.3197, 0.6780, 0.5964],\n",
              "        [0.9084, 0.6497, 0.5972],\n",
              "        [0.5100, 0.4186, 0.6005],\n",
              "        [0.8673, 0.5293, 0.0792],\n",
              "        [0.4089, 0.2296, 0.9780],\n",
              "        [0.2599, 0.1025, 0.7030],\n",
              "        [0.5471, 0.5806, 0.4165],\n",
              "        [0.9981, 0.1149, 0.6301],\n",
              "        [0.1911, 0.3837, 0.5218],\n",
              "        [0.8261, 0.3116, 0.9227],\n",
              "        [0.1286, 0.0077, 0.9207],\n",
              "        [0.1297, 0.6683, 0.6199],\n",
              "        [0.2691, 0.8331, 0.8423],\n",
              "        [0.6980, 0.4221, 0.7325],\n",
              "        [0.8865, 0.8587, 0.1793],\n",
              "        [0.2953, 0.5233, 0.3771],\n",
              "        [0.6654, 0.8675, 0.1435],\n",
              "        [0.6884, 0.5805, 0.3860],\n",
              "        [0.2975, 0.2084, 0.9236],\n",
              "        [0.4872, 0.8494, 0.0128],\n",
              "        [0.0023, 0.1625, 0.7391],\n",
              "        [0.5990, 0.9110, 0.2643],\n",
              "        [0.8031, 0.3478, 0.1686],\n",
              "        [0.4443, 0.4554, 0.9887],\n",
              "        [0.3929, 0.0246, 0.4243],\n",
              "        [0.4488, 0.8761, 0.6576],\n",
              "        [0.2913, 0.5631, 0.6006],\n",
              "        [0.9371, 0.8245, 0.6881],\n",
              "        [0.4406, 0.0500, 0.7819],\n",
              "        [0.7395, 0.3469, 0.3718],\n",
              "        [0.9232, 0.9980, 0.6567],\n",
              "        [0.8902, 0.7824, 0.5044],\n",
              "        [0.5431, 0.6243, 0.3244],\n",
              "        [0.9117, 0.8938, 0.3715],\n",
              "        [0.7509, 0.5490, 0.3492],\n",
              "        [0.9551, 0.9969, 0.6098],\n",
              "        [0.4988, 0.1150, 0.3678],\n",
              "        [0.5205, 0.5085, 0.2015],\n",
              "        [0.0649, 0.9429, 0.3326],\n",
              "        [0.8985, 0.1303, 0.4385],\n",
              "        [0.7901, 0.3398, 0.5298],\n",
              "        [0.6296, 0.1209, 0.9715],\n",
              "        [0.2720, 0.1440, 0.3845],\n",
              "        [0.7633, 0.2917, 0.2252]])"
            ]
          },
          "metadata": {},
          "execution_count": 40
        }
      ]
    },
    {
      "cell_type": "code",
      "source": [
        "x_original[0,0,0]=72818\n",
        "x_original[0,0,0],x_permuted[0,0,0]"
      ],
      "metadata": {
        "colab": {
          "base_uri": "https://localhost:8080/"
        },
        "id": "_I1NUBMRsHGr",
        "outputId": "54dcba38-e956-42e8-8624-e609275101a0"
      },
      "execution_count": 41,
      "outputs": [
        {
          "output_type": "execute_result",
          "data": {
            "text/plain": [
              "(tensor(72818.), tensor(72818.))"
            ]
          },
          "metadata": {},
          "execution_count": 41
        }
      ]
    },
    {
      "cell_type": "markdown",
      "source": [
        "**Indexing(selecting data from tensors)**\n",
        "\n",
        "Indexing with PyTorch is similar to indexing with NumPy"
      ],
      "metadata": {
        "id": "R7BA12AJsvLl"
      }
    },
    {
      "cell_type": "code",
      "source": [
        "#Create a tensor\n",
        "import torch\n",
        "x=torch.arange(1,10).reshape(1,3,3)\n",
        "x, x.shape"
      ],
      "metadata": {
        "colab": {
          "base_uri": "https://localhost:8080/"
        },
        "id": "5NMocZASt9qX",
        "outputId": "d211a17e-d7b5-4001-969d-fc6bac06cfcd"
      },
      "execution_count": 60,
      "outputs": [
        {
          "output_type": "execute_result",
          "data": {
            "text/plain": [
              "(tensor([[[1, 2, 3],\n",
              "          [4, 5, 6],\n",
              "          [7, 8, 9]]]),\n",
              " torch.Size([1, 3, 3]))"
            ]
          },
          "metadata": {},
          "execution_count": 60
        }
      ]
    },
    {
      "cell_type": "code",
      "source": [
        "#Lets index on our new tensor\n",
        "x[0]"
      ],
      "metadata": {
        "colab": {
          "base_uri": "https://localhost:8080/"
        },
        "id": "bZBsQnndv-Jn",
        "outputId": "21a2ebd4-7c55-4f22-8bca-866d94a43a2e"
      },
      "execution_count": 59,
      "outputs": [
        {
          "output_type": "execute_result",
          "data": {
            "text/plain": [
              "tensor([[1, 2, 3],\n",
              "        [4, 5, 6],\n",
              "        [7, 8, 9]])"
            ]
          },
          "metadata": {},
          "execution_count": 59
        }
      ]
    },
    {
      "cell_type": "code",
      "source": [
        "#Lets index on middle bracket(dim=1)\n",
        "x[0][0]"
      ],
      "metadata": {
        "colab": {
          "base_uri": "https://localhost:8080/"
        },
        "id": "RLgPF31HwDWC",
        "outputId": "1a90ad48-3607-4f68-f02e-32888c97ed2a"
      },
      "execution_count": 58,
      "outputs": [
        {
          "output_type": "execute_result",
          "data": {
            "text/plain": [
              "tensor([1, 2, 3])"
            ]
          },
          "metadata": {},
          "execution_count": 58
        }
      ]
    },
    {
      "cell_type": "code",
      "source": [
        "#Lets index on the most inner bracket (last dimension)\n",
        "x[0][0][0]"
      ],
      "metadata": {
        "colab": {
          "base_uri": "https://localhost:8080/"
        },
        "id": "TJuiwXVwwMmK",
        "outputId": "baf1e38c-5c7b-4533-f60d-c7cee146b56f"
      },
      "execution_count": 57,
      "outputs": [
        {
          "output_type": "execute_result",
          "data": {
            "text/plain": [
              "tensor(1)"
            ]
          },
          "metadata": {},
          "execution_count": 57
        }
      ]
    },
    {
      "cell_type": "code",
      "source": [
        "x[0][0][1]"
      ],
      "metadata": {
        "colab": {
          "base_uri": "https://localhost:8080/"
        },
        "id": "-1ekVbPLwWyD",
        "outputId": "1aa57b85-a549-479c-9cf8-5574de87506c"
      },
      "execution_count": 56,
      "outputs": [
        {
          "output_type": "execute_result",
          "data": {
            "text/plain": [
              "tensor(2)"
            ]
          },
          "metadata": {},
          "execution_count": 56
        }
      ]
    },
    {
      "cell_type": "code",
      "source": [
        "x[0][1][1]"
      ],
      "metadata": {
        "colab": {
          "base_uri": "https://localhost:8080/"
        },
        "id": "c6qfNp4rwiEp",
        "outputId": "332fcf15-390d-4015-ed27-6d6fa1671d4c"
      },
      "execution_count": 55,
      "outputs": [
        {
          "output_type": "execute_result",
          "data": {
            "text/plain": [
              "tensor(5)"
            ]
          },
          "metadata": {},
          "execution_count": 55
        }
      ]
    },
    {
      "cell_type": "code",
      "source": [
        "#You can use \":\" to select \"all\" of a target dimension\n",
        "x[:,0]"
      ],
      "metadata": {
        "colab": {
          "base_uri": "https://localhost:8080/"
        },
        "id": "YDIJ3gd6zKSj",
        "outputId": "255dbb02-9a6d-48d5-9e93-591a5830efbd"
      },
      "execution_count": 61,
      "outputs": [
        {
          "output_type": "execute_result",
          "data": {
            "text/plain": [
              "tensor([[1, 2, 3]])"
            ]
          },
          "metadata": {},
          "execution_count": 61
        }
      ]
    },
    {
      "cell_type": "code",
      "source": [
        "#Get all values of 0th and 1st dimensions but only index 1 of 2nd dimension\n",
        "x[:,:,1]"
      ],
      "metadata": {
        "colab": {
          "base_uri": "https://localhost:8080/"
        },
        "id": "0zz0byCn0wKz",
        "outputId": "af603a48-17b9-4c1e-d5fa-24e8c9f8a654"
      },
      "execution_count": 64,
      "outputs": [
        {
          "output_type": "execute_result",
          "data": {
            "text/plain": [
              "tensor([[2, 5, 8]])"
            ]
          },
          "metadata": {},
          "execution_count": 64
        }
      ]
    },
    {
      "cell_type": "code",
      "source": [
        "#Get all values of the 0 dimension but only the 1 index value of 1st and 2nd dimensions\n",
        "x[:,1,1]"
      ],
      "metadata": {
        "colab": {
          "base_uri": "https://localhost:8080/"
        },
        "id": "Gpi9JeSA1ZjI",
        "outputId": "c482eccd-1035-4e45-a6fc-5b1e4d50f0d5"
      },
      "execution_count": 65,
      "outputs": [
        {
          "output_type": "execute_result",
          "data": {
            "text/plain": [
              "tensor([5])"
            ]
          },
          "metadata": {},
          "execution_count": 65
        }
      ]
    },
    {
      "cell_type": "code",
      "source": [
        "#Get index 0 of 0th and 1st dimension and all values of 2nd dimension\n",
        "x[0,0,:]"
      ],
      "metadata": {
        "colab": {
          "base_uri": "https://localhost:8080/"
        },
        "id": "CI-yCVT82HXe",
        "outputId": "edfa3e4b-05e5-43de-e0e1-f64d97697c1a"
      },
      "execution_count": 67,
      "outputs": [
        {
          "output_type": "execute_result",
          "data": {
            "text/plain": [
              "tensor([1, 2, 3])"
            ]
          },
          "metadata": {},
          "execution_count": 67
        }
      ]
    },
    {
      "cell_type": "code",
      "source": [
        "#Index on x to return 9\n",
        "print(x[0][2][2])\n",
        "\n",
        "#Index on x to return 3,6,9\n",
        "print(x[:,:,2])"
      ],
      "metadata": {
        "colab": {
          "base_uri": "https://localhost:8080/"
        },
        "id": "XTRNAtjR2Z3h",
        "outputId": "123d6232-2bfd-402c-fa4a-de9a64f13d46"
      },
      "execution_count": 68,
      "outputs": [
        {
          "output_type": "stream",
          "name": "stdout",
          "text": [
            "tensor(9)\n",
            "tensor([[3, 6, 9]])\n"
          ]
        }
      ]
    },
    {
      "cell_type": "code",
      "source": [
        "x"
      ],
      "metadata": {
        "colab": {
          "base_uri": "https://localhost:8080/"
        },
        "id": "e_-2M-Yh2zHq",
        "outputId": "90bc1e83-faa1-42f5-a8a5-579ad0f3fd5f"
      },
      "execution_count": 69,
      "outputs": [
        {
          "output_type": "execute_result",
          "data": {
            "text/plain": [
              "tensor([[[1, 2, 3],\n",
              "         [4, 5, 6],\n",
              "         [7, 8, 9]]])"
            ]
          },
          "metadata": {},
          "execution_count": 69
        }
      ]
    },
    {
      "cell_type": "markdown",
      "source": [
        "**PyTorch tensors and NumPy**\n",
        "\n",
        "NumPy is a popular scientific python numerical computing library.\n",
        "And because of this,PyTorch has functionality to interact with it.\n",
        "\n",
        "1.Data in NumPy, want in PyTorch tensor->torch.from_numpy(ndarray)\n",
        "\n",
        "2.PyTorch tensor -> NumPy -> torch.Tensor.numpy()"
      ],
      "metadata": {
        "id": "F3idLr4D3AUj"
      }
    },
    {
      "cell_type": "code",
      "source": [
        "#NumPy array to tensor\n",
        "import torch\n",
        "import numpy as np\n",
        "\n",
        "array=np.arange(1.0,8.0)\n",
        "tensor=torch.from_numpy(array).type(torch.float32)\n",
        "array,tensor"
      ],
      "metadata": {
        "colab": {
          "base_uri": "https://localhost:8080/"
        },
        "id": "D_V54pyF21st",
        "outputId": "8c4a88ae-fdb5-4cba-c09e-eaa56f0ce501"
      },
      "execution_count": 78,
      "outputs": [
        {
          "output_type": "execute_result",
          "data": {
            "text/plain": [
              "(array([1., 2., 3., 4., 5., 6., 7.]), tensor([1., 2., 3., 4., 5., 6., 7.]))"
            ]
          },
          "metadata": {},
          "execution_count": 78
        }
      ]
    },
    {
      "cell_type": "code",
      "source": [
        "#Change the value of array, what will this do to 'tensor'?\n",
        "array=array+1\n",
        "array, tensor, array.dtype\n"
      ],
      "metadata": {
        "colab": {
          "base_uri": "https://localhost:8080/"
        },
        "id": "mjBCILco4fOi",
        "outputId": "bf542d9f-dc5a-4396-eacf-43cfad4b7aab"
      },
      "execution_count": 84,
      "outputs": [
        {
          "output_type": "execute_result",
          "data": {
            "text/plain": [
              "(array([ 4.,  5.,  6.,  7.,  8.,  9., 10.]),\n",
              " tensor([1., 2., 3., 4., 5., 6., 7.]),\n",
              " dtype('float64'))"
            ]
          },
          "metadata": {},
          "execution_count": 84
        }
      ]
    },
    {
      "cell_type": "code",
      "source": [
        "tensor=torch.ones(7)\n",
        "numpy_tensor=tensor.numpy()\n",
        "tensor,numpy_tensor\n"
      ],
      "metadata": {
        "colab": {
          "base_uri": "https://localhost:8080/"
        },
        "id": "uQb4OvvI4jUd",
        "outputId": "059091cb-247b-45be-c26c-3914412d3d07"
      },
      "execution_count": 86,
      "outputs": [
        {
          "output_type": "execute_result",
          "data": {
            "text/plain": [
              "(tensor([1., 1., 1., 1., 1., 1., 1.]),\n",
              " array([1., 1., 1., 1., 1., 1., 1.], dtype=float32))"
            ]
          },
          "metadata": {},
          "execution_count": 86
        }
      ]
    },
    {
      "cell_type": "code",
      "source": [
        "numpy_tensor.dtype"
      ],
      "metadata": {
        "colab": {
          "base_uri": "https://localhost:8080/"
        },
        "id": "__GqROfE68es",
        "outputId": "489253e2-a0ca-481f-e376-c9a2b5a7e09a"
      },
      "execution_count": 87,
      "outputs": [
        {
          "output_type": "execute_result",
          "data": {
            "text/plain": [
              "dtype('float32')"
            ]
          },
          "metadata": {},
          "execution_count": 87
        }
      ]
    },
    {
      "cell_type": "code",
      "source": [
        "torch.arange(1.0,8.0).dtype"
      ],
      "metadata": {
        "colab": {
          "base_uri": "https://localhost:8080/"
        },
        "id": "DKoXQD5G4m5H",
        "outputId": "38836621-9fa2-4fcd-fb42-4051259b5fba"
      },
      "execution_count": 81,
      "outputs": [
        {
          "output_type": "execute_result",
          "data": {
            "text/plain": [
              "torch.float32"
            ]
          },
          "metadata": {},
          "execution_count": 81
        }
      ]
    },
    {
      "cell_type": "code",
      "source": [
        "#Change the tensor what happens to numpy_tensor?\n",
        "tensor=tensor+1\n",
        "tensor, numpy_tensor"
      ],
      "metadata": {
        "colab": {
          "base_uri": "https://localhost:8080/"
        },
        "id": "q9cX3cJ34yVw",
        "outputId": "2a112faa-4171-42ca-f978-cdb3eba208df"
      },
      "execution_count": 88,
      "outputs": [
        {
          "output_type": "execute_result",
          "data": {
            "text/plain": [
              "(tensor([2., 2., 2., 2., 2., 2., 2.]),\n",
              " array([1., 1., 1., 1., 1., 1., 1.], dtype=float32))"
            ]
          },
          "metadata": {},
          "execution_count": 88
        }
      ]
    },
    {
      "cell_type": "markdown",
      "source": [
        "**Reproducability(trying to take random out of random)**\n",
        "\n",
        "In short how a neural networks learns:\n",
        "\n",
        "Start with random numbers -> tensor operations -> update random numbers to try and make them of the data -> again -> again....\n",
        "\n",
        "\n",
        "To reduce the randomness in neural networks and PyTorch comes the concept of a **random seed**.Essentially what the random seed does is \"flavour\" the randomness."
      ],
      "metadata": {
        "id": "Ek0bInEy7YnS"
      }
    },
    {
      "cell_type": "code",
      "source": [
        "torch.rand(3,3)"
      ],
      "metadata": {
        "colab": {
          "base_uri": "https://localhost:8080/"
        },
        "id": "IgZu5S048CRe",
        "outputId": "6d4880c0-3677-47df-a209-9e441c792f33"
      },
      "execution_count": 90,
      "outputs": [
        {
          "output_type": "execute_result",
          "data": {
            "text/plain": [
              "tensor([[0.1024, 0.4665, 0.1926],\n",
              "        [0.6667, 0.4364, 0.5258],\n",
              "        [0.2794, 0.2761, 0.1402]])"
            ]
          },
          "metadata": {},
          "execution_count": 90
        }
      ]
    },
    {
      "cell_type": "code",
      "source": [
        "#Create two random tensors\n",
        "\n",
        "random_tensor_A=torch.rand(3,4)\n",
        "random_tensor_B=torch.rand(3,4)\n",
        "\n",
        "print(random_tensor_A)\n",
        "print(random_tensor_B)\n",
        "print(random_tensor_A==random_tensor_B)\n",
        "\n"
      ],
      "metadata": {
        "colab": {
          "base_uri": "https://localhost:8080/"
        },
        "id": "s9G7kcRw86xD",
        "outputId": "5d9d4754-620f-454f-9cad-e4719f0ce6f2"
      },
      "execution_count": 91,
      "outputs": [
        {
          "output_type": "stream",
          "name": "stdout",
          "text": [
            "tensor([[0.7234, 0.7845, 0.3862, 0.8003],\n",
            "        [0.3659, 0.4476, 0.5819, 0.5975],\n",
            "        [0.2044, 0.5169, 0.5366, 0.8120]])\n",
            "tensor([[0.9535, 0.6984, 0.7200, 0.6757],\n",
            "        [0.8224, 0.4853, 0.1298, 0.1895],\n",
            "        [0.8507, 0.6702, 0.4818, 0.2634]])\n",
            "tensor([[False, False, False, False],\n",
            "        [False, False, False, False],\n",
            "        [False, False, False, False]])\n"
          ]
        }
      ]
    },
    {
      "cell_type": "code",
      "source": [
        "1==1"
      ],
      "metadata": {
        "colab": {
          "base_uri": "https://localhost:8080/"
        },
        "id": "ZgsXGh6t9a_Z",
        "outputId": "e748bc5e-6f57-4d84-9754-4759e9f586ff"
      },
      "execution_count": 92,
      "outputs": [
        {
          "output_type": "execute_result",
          "data": {
            "text/plain": [
              "True"
            ]
          },
          "metadata": {},
          "execution_count": 92
        }
      ]
    },
    {
      "cell_type": "code",
      "source": [
        "#Lets make some random but reproducible tensors\n",
        "\n",
        "#set the random seed\n",
        "RANDOM_SEED=42\n",
        "torch.manual_seed(RANDOM_SEED)\n",
        "\n",
        "random_tensor_C=torch.rand(3,4)\n",
        "\n",
        "torch.manual_seed(RANDOM_SEED)\n",
        "random_tensor_D=torch.rand(3,4)\n",
        "\n",
        "print(random_tensor_C)\n",
        "print(random_tensor_D)\n",
        "print(random_tensor_C==random_tensor_D)"
      ],
      "metadata": {
        "colab": {
          "base_uri": "https://localhost:8080/"
        },
        "id": "wYtY6NuP9q7q",
        "outputId": "268d7e03-b4ab-4477-b0e7-8683f6889620"
      },
      "execution_count": 95,
      "outputs": [
        {
          "output_type": "stream",
          "name": "stdout",
          "text": [
            "tensor([[0.8823, 0.9150, 0.3829, 0.9593],\n",
            "        [0.3904, 0.6009, 0.2566, 0.7936],\n",
            "        [0.9408, 0.1332, 0.9346, 0.5936]])\n",
            "tensor([[0.8823, 0.9150, 0.3829, 0.9593],\n",
            "        [0.3904, 0.6009, 0.2566, 0.7936],\n",
            "        [0.9408, 0.1332, 0.9346, 0.5936]])\n",
            "tensor([[True, True, True, True],\n",
            "        [True, True, True, True],\n",
            "        [True, True, True, True]])\n"
          ]
        }
      ]
    },
    {
      "cell_type": "markdown",
      "source": [
        "**Running tensors and PyTorch objects on the GPUs**\n",
        "\n",
        "**GETTING A GPU**\n",
        "\n",
        "1.Easiest-Use Google Colab for a free GPU\n",
        "\n",
        "2.Use your own GPU\n",
        "\n",
        "3.Use cloud computing"
      ],
      "metadata": {
        "id": "M6YShUhnBye5"
      }
    },
    {
      "cell_type": "code",
      "source": [
        "!nvidia-smi"
      ],
      "metadata": {
        "colab": {
          "base_uri": "https://localhost:8080/"
        },
        "id": "OVO_8ITOEvg4",
        "outputId": "5e958f11-79b0-47e5-a221-d0db2fae633c"
      },
      "execution_count": 1,
      "outputs": [
        {
          "output_type": "stream",
          "name": "stdout",
          "text": [
            "Mon Feb 12 11:46:52 2024       \n",
            "+---------------------------------------------------------------------------------------+\n",
            "| NVIDIA-SMI 535.104.05             Driver Version: 535.104.05   CUDA Version: 12.2     |\n",
            "|-----------------------------------------+----------------------+----------------------+\n",
            "| GPU  Name                 Persistence-M | Bus-Id        Disp.A | Volatile Uncorr. ECC |\n",
            "| Fan  Temp   Perf          Pwr:Usage/Cap |         Memory-Usage | GPU-Util  Compute M. |\n",
            "|                                         |                      |               MIG M. |\n",
            "|=========================================+======================+======================|\n",
            "|   0  Tesla T4                       Off | 00000000:00:04.0 Off |                    0 |\n",
            "| N/A   58C    P8              10W /  70W |      0MiB / 15360MiB |      0%      Default |\n",
            "|                                         |                      |                  N/A |\n",
            "+-----------------------------------------+----------------------+----------------------+\n",
            "                                                                                         \n",
            "+---------------------------------------------------------------------------------------+\n",
            "| Processes:                                                                            |\n",
            "|  GPU   GI   CI        PID   Type   Process name                            GPU Memory |\n",
            "|        ID   ID                                                             Usage      |\n",
            "|=======================================================================================|\n",
            "|  No running processes found                                                           |\n",
            "+---------------------------------------------------------------------------------------+\n"
          ]
        }
      ]
    },
    {
      "cell_type": "markdown",
      "source": [
        "**CHECK FOR GPU ACCESS WITH PYTORCH**"
      ],
      "metadata": {
        "id": "8mFFBYIAEJpG"
      }
    },
    {
      "cell_type": "code",
      "source": [
        "import torch\n",
        "torch.cuda.is_available()"
      ],
      "metadata": {
        "colab": {
          "base_uri": "https://localhost:8080/"
        },
        "id": "tTBOVrOzD_-D",
        "outputId": "fb76d33f-9f61-4472-8d14-1e0668abbf19"
      },
      "execution_count": 2,
      "outputs": [
        {
          "output_type": "execute_result",
          "data": {
            "text/plain": [
              "True"
            ]
          },
          "metadata": {},
          "execution_count": 2
        }
      ]
    },
    {
      "cell_type": "code",
      "source": [
        "#Setup device agnostic code\n",
        "device=\"cuda\" if torch.cuda.is_available() else \"cpu\"\n",
        "device"
      ],
      "metadata": {
        "colab": {
          "base_uri": "https://localhost:8080/",
          "height": 35
        },
        "id": "qTxjpRf5Fsil",
        "outputId": "d71e4f67-f4a6-4eaf-c1eb-d8b18441b035"
      },
      "execution_count": 3,
      "outputs": [
        {
          "output_type": "execute_result",
          "data": {
            "text/plain": [
              "'cuda'"
            ],
            "application/vnd.google.colaboratory.intrinsic+json": {
              "type": "string"
            }
          },
          "metadata": {},
          "execution_count": 3
        }
      ]
    },
    {
      "cell_type": "code",
      "source": [
        "#Count number of devices\n",
        "torch.cuda.device_count()"
      ],
      "metadata": {
        "colab": {
          "base_uri": "https://localhost:8080/"
        },
        "id": "rbPF7g8pGD6k",
        "outputId": "73b86e6e-71b0-428b-ef7a-bd4910bb5409"
      },
      "execution_count": 4,
      "outputs": [
        {
          "output_type": "execute_result",
          "data": {
            "text/plain": [
              "1"
            ]
          },
          "metadata": {},
          "execution_count": 4
        }
      ]
    },
    {
      "cell_type": "markdown",
      "source": [
        "**PUTTING TENSORS AND MODELS ON THE GPU**"
      ],
      "metadata": {
        "id": "qxD7XgTfGn3B"
      }
    },
    {
      "cell_type": "code",
      "source": [
        "#Create a tensor (default on the CPU)\n",
        "import torch\n",
        "tensor=torch.tensor([1,2,3])\n",
        "\n",
        "#Tensor not on GPU\n",
        "print(tensor, tensor.device)"
      ],
      "metadata": {
        "colab": {
          "base_uri": "https://localhost:8080/"
        },
        "id": "hARZ_vs1G3na",
        "outputId": "0972e9f2-6a54-470b-89b3-1217824eb46e"
      },
      "execution_count": 5,
      "outputs": [
        {
          "output_type": "stream",
          "name": "stdout",
          "text": [
            "tensor([1, 2, 3]) cpu\n"
          ]
        }
      ]
    },
    {
      "cell_type": "code",
      "source": [
        "#Move tensor to GPU (if available)\n",
        "tensor_on_gpu=tensor.to(device)\n",
        "tensor_on_gpu"
      ],
      "metadata": {
        "colab": {
          "base_uri": "https://localhost:8080/"
        },
        "id": "gxwAEdnpHXlG",
        "outputId": "abda1db1-eec3-4f78-dd65-f617b17de5dc"
      },
      "execution_count": 7,
      "outputs": [
        {
          "output_type": "execute_result",
          "data": {
            "text/plain": [
              "tensor([1, 2, 3], device='cuda:0')"
            ]
          },
          "metadata": {},
          "execution_count": 7
        }
      ]
    },
    {
      "cell_type": "markdown",
      "source": [
        "**MOVING TENSORS BACK TO THE CPU**"
      ],
      "metadata": {
        "id": "R895rmawJRsW"
      }
    },
    {
      "cell_type": "code",
      "source": [
        "#If tensor is on GPU, can't transform it to NumPy\n",
        "tensor_on_gpu.numpy()"
      ],
      "metadata": {
        "colab": {
          "base_uri": "https://localhost:8080/",
          "height": 211
        },
        "id": "cB5dIpzlJXGT",
        "outputId": "4008f319-efbf-4dd3-c76d-0a8c7d01cbc2"
      },
      "execution_count": 8,
      "outputs": [
        {
          "output_type": "error",
          "ename": "TypeError",
          "evalue": "can't convert cuda:0 device type tensor to numpy. Use Tensor.cpu() to copy the tensor to host memory first.",
          "traceback": [
            "\u001b[0;31m---------------------------------------------------------------------------\u001b[0m",
            "\u001b[0;31mTypeError\u001b[0m                                 Traceback (most recent call last)",
            "\u001b[0;32m<ipython-input-8-490dad0d50d1>\u001b[0m in \u001b[0;36m<cell line: 2>\u001b[0;34m()\u001b[0m\n\u001b[1;32m      1\u001b[0m \u001b[0;31m#If tensor is on GPU, can't transform it to NumPy\u001b[0m\u001b[0;34m\u001b[0m\u001b[0;34m\u001b[0m\u001b[0m\n\u001b[0;32m----> 2\u001b[0;31m \u001b[0mtensor_on_gpu\u001b[0m\u001b[0;34m.\u001b[0m\u001b[0mnumpy\u001b[0m\u001b[0;34m(\u001b[0m\u001b[0;34m)\u001b[0m\u001b[0;34m\u001b[0m\u001b[0;34m\u001b[0m\u001b[0m\n\u001b[0m",
            "\u001b[0;31mTypeError\u001b[0m: can't convert cuda:0 device type tensor to numpy. Use Tensor.cpu() to copy the tensor to host memory first."
          ]
        }
      ]
    },
    {
      "cell_type": "code",
      "source": [
        "#to fix the GPU tensor with NumPy issue , we can first set it to the CPU\n",
        "tensor_back_on_cpu=tensor_on_gpu.cpu().numpy()\n",
        "tensor_back_on_cpu"
      ],
      "metadata": {
        "colab": {
          "base_uri": "https://localhost:8080/"
        },
        "id": "yk3PlEQZJt-x",
        "outputId": "5162404f-deca-4476-bfee-292eb066bd25"
      },
      "execution_count": 9,
      "outputs": [
        {
          "output_type": "execute_result",
          "data": {
            "text/plain": [
              "array([1, 2, 3])"
            ]
          },
          "metadata": {},
          "execution_count": 9
        }
      ]
    },
    {
      "cell_type": "code",
      "source": [
        "tensor_on_gpu"
      ],
      "metadata": {
        "colab": {
          "base_uri": "https://localhost:8080/"
        },
        "id": "uSj1KXX_KRkC",
        "outputId": "61456007-49be-4869-f974-00d7570c50cc"
      },
      "execution_count": 10,
      "outputs": [
        {
          "output_type": "execute_result",
          "data": {
            "text/plain": [
              "tensor([1, 2, 3], device='cuda:0')"
            ]
          },
          "metadata": {},
          "execution_count": 10
        }
      ]
    }
  ]
}