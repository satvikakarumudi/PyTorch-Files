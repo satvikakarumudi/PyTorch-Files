{
  "nbformat": 4,
  "nbformat_minor": 0,
  "metadata": {
    "colab": {
      "provenance": [],
      "authorship_tag": "ABX9TyNCGd7zTI8HoLZ4DrrxGEuL",
      "include_colab_link": true
    },
    "kernelspec": {
      "name": "python3",
      "display_name": "Python 3"
    },
    "language_info": {
      "name": "python"
    }
  },
  "cells": [
    {
      "cell_type": "markdown",
      "metadata": {
        "id": "view-in-github",
        "colab_type": "text"
      },
      "source": [
        "<a href=\"https://colab.research.google.com/github/satvikakarumudi/PyTorch-Files/blob/main/00Exercises_Fundamentals.ipynb\" target=\"_parent\"><img src=\"https://colab.research.google.com/assets/colab-badge.svg\" alt=\"Open In Colab\"/></a>"
      ]
    },
    {
      "cell_type": "code",
      "execution_count": 1,
      "metadata": {
        "colab": {
          "base_uri": "https://localhost:8080/"
        },
        "id": "SE1F6O1Sgg0m",
        "outputId": "98167117-b05e-47fa-ddaa-3a27eff4981c"
      },
      "outputs": [
        {
          "output_type": "execute_result",
          "data": {
            "text/plain": [
              "tensor([[0.3426, 0.9262, 0.9524, 0.7958, 0.2387, 0.0091, 0.3082],\n",
              "        [0.2430, 0.3665, 0.8024, 0.8570, 0.1140, 0.8363, 0.0594],\n",
              "        [0.5927, 0.9244, 0.8189, 0.5384, 0.2868, 0.0973, 0.9470],\n",
              "        [0.4599, 0.8519, 0.9869, 0.6912, 0.0336, 0.8480, 0.5851],\n",
              "        [0.1113, 0.9797, 0.2001, 0.6603, 0.0502, 0.8842, 0.1744],\n",
              "        [0.9012, 0.2758, 0.7212, 0.4953, 0.9264, 0.1533, 0.8792],\n",
              "        [0.1512, 0.2096, 0.1372, 0.6712, 0.2460, 0.8350, 0.0312]])"
            ]
          },
          "metadata": {},
          "execution_count": 1
        }
      ],
      "source": [
        "import torch\n",
        "import pandas as pd\n",
        "import numpy as np\n",
        "import matplotlib.pyplot as plt\n",
        "torch.rand(7,7)"
      ]
    },
    {
      "cell_type": "code",
      "source": [
        "torch.matmul(torch.rand(7,7),torch.rand(1,7).T)"
      ],
      "metadata": {
        "colab": {
          "base_uri": "https://localhost:8080/"
        },
        "id": "tgfXtNtni2wD",
        "outputId": "352d800c-2530-465a-bea3-c02d9b7a83eb"
      },
      "execution_count": 2,
      "outputs": [
        {
          "output_type": "execute_result",
          "data": {
            "text/plain": [
              "tensor([[1.4233],\n",
              "        [2.5205],\n",
              "        [1.7060],\n",
              "        [1.6688],\n",
              "        [2.5774],\n",
              "        [1.9618],\n",
              "        [1.4954]])"
            ]
          },
          "metadata": {},
          "execution_count": 2
        }
      ]
    },
    {
      "cell_type": "code",
      "source": [
        "random_seed=0\n",
        "torch.manual_seed(random_seed)\n",
        "print(torch.rand(7,7))\n",
        "\n",
        "torch.manual_seed(random_seed)\n",
        "torch.matmul(torch.rand(7,7),torch.rand(1,7).T)"
      ],
      "metadata": {
        "colab": {
          "base_uri": "https://localhost:8080/"
        },
        "id": "FKIB2lOKi9cb",
        "outputId": "d446668e-d79d-4706-aae0-92b2d3e44109"
      },
      "execution_count": 3,
      "outputs": [
        {
          "output_type": "stream",
          "name": "stdout",
          "text": [
            "tensor([[0.4963, 0.7682, 0.0885, 0.1320, 0.3074, 0.6341, 0.4901],\n",
            "        [0.8964, 0.4556, 0.6323, 0.3489, 0.4017, 0.0223, 0.1689],\n",
            "        [0.2939, 0.5185, 0.6977, 0.8000, 0.1610, 0.2823, 0.6816],\n",
            "        [0.9152, 0.3971, 0.8742, 0.4194, 0.5529, 0.9527, 0.0362],\n",
            "        [0.1852, 0.3734, 0.3051, 0.9320, 0.1759, 0.2698, 0.1507],\n",
            "        [0.0317, 0.2081, 0.9298, 0.7231, 0.7423, 0.5263, 0.2437],\n",
            "        [0.5846, 0.0332, 0.1387, 0.2422, 0.8155, 0.7932, 0.2783]])\n"
          ]
        },
        {
          "output_type": "execute_result",
          "data": {
            "text/plain": [
              "tensor([[1.8542],\n",
              "        [1.9611],\n",
              "        [2.2884],\n",
              "        [3.0481],\n",
              "        [1.7067],\n",
              "        [2.5290],\n",
              "        [1.7989]])"
            ]
          },
          "metadata": {},
          "execution_count": 3
        }
      ]
    }
  ]
}